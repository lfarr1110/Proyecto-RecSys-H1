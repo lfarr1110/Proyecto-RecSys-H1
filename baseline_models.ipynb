{
 "cells": [
  {
   "cell_type": "markdown",
   "id": "4f396411",
   "metadata": {},
   "source": [
    "# Baselines Models\n",
    "A continuación se presenta la implementación de los modelos base para el proyecto. Los elegidos son:\n",
    "- Random\n",
    "- Most popular item\n",
    "- ALS"
   ]
  },
  {
   "cell_type": "markdown",
   "id": "e3a8f1f3",
   "metadata": {},
   "source": [
    "## Importamos el dataset"
   ]
  },
  {
   "cell_type": "code",
   "execution_count": null,
   "id": "855ffd1e",
   "metadata": {},
   "outputs": [],
   "source": []
  },
  {
   "cell_type": "markdown",
   "id": "7abf37b1",
   "metadata": {},
   "source": [
    "## Importamos las librerías necesarias"
   ]
  },
  {
   "cell_type": "code",
   "execution_count": null,
   "id": "add8831c",
   "metadata": {},
   "outputs": [],
   "source": []
  },
  {
   "cell_type": "markdown",
   "id": "ca6731dc",
   "metadata": {},
   "source": [
    "## Definimos las funciones de métricas de evaluación"
   ]
  },
  {
   "cell_type": "code",
   "execution_count": null,
   "id": "6797ef53",
   "metadata": {},
   "outputs": [],
   "source": []
  },
  {
   "cell_type": "markdown",
   "id": "f2fe885e",
   "metadata": {},
   "source": [
    "## Ejectuamos y evaluamos"
   ]
  },
  {
   "cell_type": "code",
   "execution_count": null,
   "id": "54a57648",
   "metadata": {},
   "outputs": [],
   "source": []
  }
 ],
 "metadata": {
  "kernelspec": {
   "display_name": "Python 3",
   "language": "python",
   "name": "python3"
  },
  "language_info": {
   "name": "python",
   "version": "3.10.12"
  }
 },
 "nbformat": 4,
 "nbformat_minor": 5
}
